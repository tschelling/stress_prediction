{
 "cells": [
  {
   "cell_type": "code",
   "execution_count": 5,
   "id": "0143c79c",
   "metadata": {},
   "outputs": [
    {
     "name": "stderr",
     "output_type": "stream",
     "text": [
      "[*********************100%***********************]  1 of 1 completed\n"
     ]
    }
   ],
   "source": [
    "# Download SP500 data with yfinance\n",
    "# from datetime import datetime\n",
    "import yfinance as yf\n",
    "import pandas as pd\n",
    "\n",
    "# Download quarterly SP500 data\n",
    "yahoo = yf.download('^GSPC', start='1950-01-01', end='2024-12-31', interval='1d')\n",
    "yahoo = yahoo.resample('QE').last()\n",
    "yahoo = yahoo.rename(columns={'Close': 'sp500'})\n",
    "yahoo = yahoo[['sp500']]\n",
    "yahoo.columns = ['sp500']\n",
    "# Rename Date period[Q-DEC]\n",
    "yahoo.index = yahoo.index.to_period('Q')\n",
    "yahoo.index.name = 'date'\n"
   ]
  },
  {
   "cell_type": "markdown",
   "id": "d0303eb8",
   "metadata": {},
   "source": [
    "# Transform"
   ]
  },
  {
   "cell_type": "code",
   "execution_count": 6,
   "id": "28c578a4",
   "metadata": {},
   "outputs": [],
   "source": [
    "yahoo_transformed = yahoo.copy()\n",
    "# --- 1. Percentage change ---\n",
    "for col in ['sp500']:\n",
    "    if col in yahoo_transformed.columns:\n",
    "        # QoQ % Change\n",
    "        yahoo_transformed[f'{col}_qoq'] = yahoo_transformed[col].pct_change(periods=1)\n",
    "        # YoY % Change\n",
    "        yahoo_transformed[f'{col}_yoy'] = yahoo_transformed[col].pct_change(periods=4) \n",
    "    else:\n",
    "        print(f\"Column {col} not found in DataFrame. Skipping...\")"
   ]
  },
  {
   "cell_type": "markdown",
   "id": "08964a5a",
   "metadata": {},
   "source": [
    "# Save "
   ]
  },
  {
   "cell_type": "code",
   "execution_count": 7,
   "id": "f6d6602f",
   "metadata": {},
   "outputs": [],
   "source": [
    "\n",
    "# Save to parquet file\n",
    "yahoo_transformed.to_parquet('yahoo.parquet', index=True, engine='pyarrow')\n"
   ]
  }
 ],
 "metadata": {
  "kernelspec": {
   "display_name": "ray_env",
   "language": "python",
   "name": "python3"
  },
  "language_info": {
   "codemirror_mode": {
    "name": "ipython",
    "version": 3
   },
   "file_extension": ".py",
   "mimetype": "text/x-python",
   "name": "python",
   "nbconvert_exporter": "python",
   "pygments_lexer": "ipython3",
   "version": "3.9.18"
  }
 },
 "nbformat": 4,
 "nbformat_minor": 5
}
