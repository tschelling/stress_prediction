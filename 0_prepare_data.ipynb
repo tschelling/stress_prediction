{
 "cells": [
  {
   "cell_type": "markdown",
   "id": "1a60a446",
   "metadata": {},
   "source": [
    "# Configure"
   ]
  },
  {
   "cell_type": "code",
   "execution_count": 22,
   "id": "83a6a84c",
   "metadata": {},
   "outputs": [],
   "source": [
    "import pandas as pd\n",
    "import numpy as np\n",
    "\n",
    "\n",
    "# --- Configuration ---\n",
    "do_winsorize = False # Assuming this might be used later\n",
    "lags = 1\n",
    "reduce_banks = True\n",
    "reduce_banks_to = 20\n",
    "\n",
    "raw_variables = [\n",
    "    'gdp_qoq', 'cpi_qoq', 'sp500_qoq', 'corp_bond_spread',\n",
    "    'cons_sentiment_qoq', 'unemployment', 'household_delinq',\n",
    "    'vix_qoq', 'spread_10y_3m',\n",
    "    'total_assets', 'total_deposits', 'total_loans_and_leases',\n",
    "    'trading_assets', 'net_interest_income', 'interest_income', \n",
    "    'non_interest_income', 'interest_expense' 'tbill_3m', 'tbill_10y'\n",
    "]\n",
    "\n",
    "feature_variables = ['gdp_qoq', 'cpi_qoq', 'cons_sentiment_qoq', 'unemployment', \n",
    "                     'household_delinq', 'tbill_3m', 'tbill_10y', 'spread_10y_3m', \n",
    "                     'deposits_to_assets', 'loans_to_assets']\n",
    "\n",
    "target_variable = 'net_interest_income_to_assets'\n"
   ]
  },
  {
   "cell_type": "markdown",
   "id": "b40bfa29",
   "metadata": {},
   "source": [
    "# Load and select data"
   ]
  },
  {
   "cell_type": "code",
   "execution_count": 23,
   "id": "7117e278",
   "metadata": {},
   "outputs": [],
   "source": [
    "\n",
    "# --- Load Data ---\n",
    "# Suppress warnings temporarily if needed, though fixing them is better\n",
    "# warnings.filterwarnings('ignore', category=RuntimeWarning)\n",
    "# warnings.filterwarnings('ignore', category=pd.errors.PerformanceWarning)\n",
    "\n",
    "fred = pd.read_parquet('data/fred/macro_data_processed.parquet')\n",
    "fdic = pd.read_parquet('data/fdic/fdic_data_processed.parquet')\n",
    "yahoo = pd.read_parquet('data/yahoo/yahoo.parquet')\n",
    "\n",
    "\n",
    "data_selected = fdic.merge(fred, on='date', how='left').merge(yahoo, on='date', how='left')\n",
    "data_selected.set_index(['id', 'date'], inplace=True)\n"
   ]
  },
  {
   "cell_type": "markdown",
   "id": "16b6052e",
   "metadata": {},
   "source": [
    "# Transform"
   ]
  },
  {
   "cell_type": "code",
   "execution_count": 24,
   "id": "c9e5a524",
   "metadata": {},
   "outputs": [],
   "source": [
    "\n",
    "def calculate_financial_ratios(df):\n",
    "    \"\"\"\n",
    "    Calculates various financial ratios and adds them as new columns to the DataFrame.\n",
    "\n",
    "    Args:\n",
    "        df (pd.DataFrame): DataFrame with necessary columns \n",
    "                           (e.g., total_deposits, total_assets, etc.).\n",
    "\n",
    "    Returns:\n",
    "        pd.DataFrame: DataFrame with added ratio columns.\n",
    "    \"\"\"\n",
    "    df_processed = df.copy()\n",
    "\n",
    "    # Calculate ratios\n",
    "    df_processed['deposit_ratio'] = df_processed['total_deposits'] / df_processed['total_assets']\n",
    "    df_processed['loan_to_deposit_ratio'] = df_processed['total_loans_and_leases'] / df_processed['total_deposits']\n",
    "    df_processed['loan_to_asset_ratio'] = df_processed['total_loans_and_leases'] / df_processed['total_assets']\n",
    "    df_processed['equity_to_asset_ratio'] = df_processed['total_equity'] / df_processed['total_assets']\n",
    "    df_processed['trading_assets_ratio'] = df_processed['trading_assets'] / df_processed['total_assets']\n",
    "    df_processed['net_interest_margin'] = (\n",
    "        df_processed['interest_income'] - df_processed['interest_expense']\n",
    "    ) / df_processed['total_assets']\n",
    "    df_processed['roe'] = df_processed['net_income'] / df_processed['total_equity']\n",
    "    df_processed['roa'] = df_processed['net_income'] / df_processed['total_assets']\n",
    "    df_processed['net_interest_income_to_assets'] = df_processed['net_interest_income'] / df_processed['total_assets']\n",
    "    df_processed[    'interest_income_to_assets'] = df_processed[    'interest_income'] / df_processed['total_assets']\n",
    "    df_processed['non_interest_income_to_assets'] = df_processed['non_interest_income'] / df_processed['total_assets']\n",
    "    df_processed[    'interest_expense_to_assets'] = df_processed[   'interest_expense']/ df_processed['total_assets']\n",
    "    df_processed['npl_ratio'] = df_processed['npl'] / df_processed['total_loans_and_leases']\n",
    "    df_processed['charge_off_ratio'] = df_processed['total_charge_offs'] / df_processed['total_loans_and_leases']\n",
    "    df_processed['rwa_ratio'] = df_processed['total_rwa'] / df_processed['total_assets']\n",
    "\n",
    "    # Log total assets\n",
    "    # Replace 0 or negative values with a small positive number before taking log to avoid -inf or NaN\n",
    "    df_processed['log_total_assets'] = np.log(df_processed['total_assets'].replace(0, np.nan).fillna(1e-9))\n",
    "\n",
    "\n",
    "    # Handle potential division by zero or NaN results by replacing inf with NaN\n",
    "    # and then optionally filling NaN with 0 or another appropriate value.\n",
    "    # This is a general approach; specific ratios might need different handling.\n",
    "    ratio_cols = [\n",
    "        'deposit_ratio', 'loan_to_deposit_ratio', 'loan_to_asset_ratio',\n",
    "        'equity_to_asset_ratio', 'trading_assets_ratio', 'net_interest_margin',\n",
    "        'roe', 'roa', 'npl_ratio', 'charge_off_ratio', 'rwa_ratio', 'log_total_assets'\n",
    "    ]\n",
    "    for col in ratio_cols:\n",
    "        if col in df_processed.columns: # Ensure column exists\n",
    "            df_processed[col] = df_processed[col].replace([np.inf, -np.inf], np.nan)\n",
    "            # Optionally, fill NaNs if appropriate for your analysis, e.g., with 0\n",
    "            # df_processed[col] = df_processed[col].fillna(0)\n",
    "\n",
    "\n",
    "    return df_processed\n",
    "\n",
    "# Apply the function to your DataFrame\n",
    "data_selected = calculate_financial_ratios(data_selected)"
   ]
  },
  {
   "cell_type": "markdown",
   "id": "dafc6e2c",
   "metadata": {},
   "source": [
    "# Clean the data"
   ]
  },
  {
   "cell_type": "code",
   "execution_count": 25,
   "id": "2d066634",
   "metadata": {},
   "outputs": [
    {
     "name": "stdout",
     "output_type": "stream",
     "text": [
      "Initial number of rows: 644542\n",
      "Deleted 0 rows with zero or negative total assets.\n",
      "Deleted 39 rows with ROA < -1 or > 1.\n",
      "Deleted 137 rows with loans to total assets ratio >= 1.\n",
      "Deleted 4 rows with trading assets to total assets ratio < 0 or >= 1.\n",
      "\n",
      "Total rows deleted: 180\n",
      "Remaining rows: 644362\n",
      "\n",
      "Shape after cleaning: (644362, 68)\n"
     ]
    }
   ],
   "source": [
    "data_cleaned = data_selected.copy()\n",
    "initial_rows = len(data_cleaned)\n",
    "cleaning_tracker = {}\n",
    "print(f\"Initial number of rows: {initial_rows}\")\n",
    "\n",
    "# Delete rows with zero total assets\n",
    "rows_before = len(data_cleaned)\n",
    "data_cleaned = data_cleaned[data_cleaned['log_total_assets'] > -np.inf]\n",
    "rows_deleted = rows_before - len(data_cleaned)\n",
    "cleaning_tracker['cleaning_ta_zero'] = rows_deleted\n",
    "print(f\"Deleted {rows_deleted} rows with zero or negative total assets.\")\n",
    "\n",
    "# Delete roa values smaller than -1 and greater than 1\n",
    "rows_before = len(data_cleaned)\n",
    "data_cleaned = data_cleaned[(data_cleaned['roa'] > -1) & (data_cleaned['roa'] < 1)]\n",
    "rows_deleted = rows_before - len(data_cleaned)\n",
    "cleaning_tracker['cleaning_roa_invalid'] = rows_deleted\n",
    "print(f\"Deleted {rows_deleted} rows with ROA < -1 or > 1.\")\n",
    "\n",
    "# Delete rows with loans to total assets ratio greater than or equal to 1\n",
    "rows_before = len(data_cleaned)\n",
    "data_cleaned = data_cleaned[data_cleaned['loan_to_asset_ratio'] < 1]\n",
    "rows_deleted = rows_before - len(data_cleaned)\n",
    "cleaning_tracker['cleaning_l2ta_ge_1'] = rows_deleted\n",
    "print(f\"Deleted {rows_deleted} rows with loans to total assets ratio >= 1.\")\n",
    "\n",
    "# Delete rows with equity to total assets ratio greater than or equal to 1\n",
    "# rows_before = len(data_cleaned)\n",
    "# data_cleaned = data_cleaned[data_cleaned['equity_to_asset_ratio'] <= 1]\n",
    "# rows_deleted = rows_before - len(data_cleaned)\n",
    "# cleaning_tracker['cleaning_eq2ta_ge_1'] = rows_deleted\n",
    "# print(f\"Deleted {rows_deleted} rows with equity to total assets ratio > 1.\")\n",
    "\n",
    "# Delete rows with trading assets to total assets ratio < 0 or >= 1\n",
    "rows_before = len(data_cleaned)\n",
    "data_cleaned = data_cleaned[(data_cleaned['trading_assets_ratio'] < 1) & (data_cleaned['trading_assets_ratio'] >= 0)]\n",
    "rows_deleted = rows_before - len(data_cleaned)\n",
    "cleaning_tracker['cleaning_trada_invalid'] = rows_deleted\n",
    "print(f\"Deleted {rows_deleted} rows with trading assets to total assets ratio < 0 or >= 1.\")\n",
    "\n",
    "\n",
    "total_deleted = sum(cleaning_tracker.values())\n",
    "print(f\"\\nTotal rows deleted: {total_deleted}\")\n",
    "print(f\"Remaining rows: {len(data_cleaned)}\")\n",
    "\n",
    "# Optional: Display the tracker dictionary\n",
    "# print(f\"Cleaning tracker: {cleaning_tracker}\")\n",
    "\n",
    "# Assign the cleaned data back to data_processed for subsequent steps\n",
    "# Note: The next cell (CELL INDEX 6) uses data_processed.\n",
    "# If this cell is intended to be the primary cleaning step,\n",
    "# rename data_cleaned to data_processed here.\n",
    "print(f\"\\nShape after cleaning: {data_cleaned.shape}\")"
   ]
  },
  {
   "cell_type": "markdown",
   "id": "36ad8f95",
   "metadata": {},
   "source": [
    "# Winsorize"
   ]
  },
  {
   "cell_type": "code",
   "execution_count": 26,
   "id": "6d75d84b",
   "metadata": {},
   "outputs": [
    {
     "name": "stdout",
     "output_type": "stream",
     "text": [
      "Winsorized the following columns: ['total_assets', 'trading_assets', 'deposit_ratio', 'loan_to_deposit_ratio', 'loan_to_asset_ratio', 'equity_to_asset_ratio', 'trading_assets_ratio', 'roa', 'net_interest_income_to_assets', 'interest_income_to_assets', 'non_interest_income_to_assets', 'interest_expense_to_assets', 'npl_ratio', 'charge_off_ratio', 'rwa_ratio', 'log_total_assets']\n"
     ]
    }
   ],
   "source": [
    "def winsorize_dataframe(df, vars_to_winsorize, do_winsorize=False, lower_percentile=0.02, upper_percentile=0.98):\n",
    "    \"\"\"\n",
    "    Winsorizes specified columns of a DataFrame.\n",
    "\n",
    "    Args:\n",
    "        df (pd.DataFrame): The input DataFrame.\n",
    "        vars_to_winsorize (list): A list of column names to winsorize.\n",
    "        do_winsorize (bool): If True, performs winsorization. Otherwise, returns a copy of the original DataFrame.\n",
    "        lower_percentile (float): The lower percentile for clipping.\n",
    "        upper_percentile (float): The upper percentile for clipping.\n",
    "\n",
    "    Returns:\n",
    "        pd.DataFrame: The winsorized (or original) DataFrame.\n",
    "    \"\"\"\n",
    "    df_out = df.copy(deep=True)\n",
    "\n",
    "    if not do_winsorize:\n",
    "        return df_out\n",
    "\n",
    "    def winsorize_series(series, lower_p, upper_p):\n",
    "        lower_bound = series.quantile(lower_p)\n",
    "        upper_bound = series.quantile(upper_p)\n",
    "        return np.clip(series, lower_bound, upper_bound)\n",
    "\n",
    "    print(f\"Winsorizing columns at [{lower_percentile}, {upper_percentile}] percentiles...\")\n",
    "    for col in vars_to_winsorize:\n",
    "        if col in df_out.columns:\n",
    "            if pd.api.types.is_numeric_dtype(df_out[col]):\n",
    "                print(f\" - Winsorizing {col}\")\n",
    "                df_out[col] = winsorize_series(df_out[col], lower_percentile, upper_percentile)\n",
    "            else:\n",
    "                print(f\" - Skipping non-numeric column {col}\")\n",
    "        else:\n",
    "            print(f\" - Skipping column {col} (not found in DataFrame)\")\n",
    "    print(\"Winsorization complete.\")\n",
    "    return df_out\n",
    "\n",
    "# --- Apply Winsorization ---\n",
    "\n",
    "\n",
    "# Define the columns to be winsorized in the features DataFrame.\n",
    "# This is a simple heuristic based on column names. Adjust as needed.\n",
    "accounting_columns = [col for col in data_cleaned.columns if 'ratio' in col or 'assets' in col or 'roa' in col]\n",
    "\n",
    "# Winsorize features\n",
    "data_winsorized = winsorize_dataframe(data_cleaned, accounting_columns, do_winsorize=do_winsorize, lower_percentile=0.02, upper_percentile=0.98)\n",
    "\n",
    "print(f\"Winsorized the following columns: {accounting_columns}\")"
   ]
  },
  {
   "cell_type": "markdown",
   "id": "98882f75",
   "metadata": {},
   "source": [
    "# Lag the data"
   ]
  },
  {
   "cell_type": "code",
   "execution_count": 27,
   "id": "3f6d5900",
   "metadata": {},
   "outputs": [
    {
     "name": "stdout",
     "output_type": "stream",
     "text": [
      "Starting lag generation...\n",
      "Generated 68 lagged features.\n"
     ]
    }
   ],
   "source": [
    "data_processed = data_winsorized.copy()\n",
    "\n",
    "\n",
    "# Store original columns to iterate over (avoids lagging the lags)\n",
    "original_cols = list(data_processed.columns)\n",
    "lagged_features = [] # List to store the new lagged Series\n",
    "\n",
    "print(\"Starting lag generation...\")\n",
    "# Loop through original columns\n",
    "nr_generated_lags = 0\n",
    "for col in original_cols:\n",
    "     # Loop through desired lags\n",
    "     for lag in range(1, lags + 1):\n",
    "          # Calculate the lagged series\n",
    "          # Use level='id' to group by the 'id' level of the MultiIndex\n",
    "          data_processed[f'{col}_lag{lag}'] = data_processed.groupby(level='id')[col].shift(lag)\n",
    "          nr_generated_lags += 1\n",
    "\n",
    "print(f\"Generated {nr_generated_lags} lagged features.\")\n",
    "\n",
    "\n",
    "\n"
   ]
  },
  {
   "cell_type": "markdown",
   "id": "5da876ed",
   "metadata": {},
   "source": [
    "# Save the data"
   ]
  },
  {
   "cell_type": "code",
   "execution_count": 28,
   "id": "554c3fd9",
   "metadata": {},
   "outputs": [],
   "source": [
    "\n",
    "# Save the final data\n",
    "data_processed.to_parquet(\"data.parquet\")\n"
   ]
  }
 ],
 "metadata": {
  "kernelspec": {
   "display_name": "myenv",
   "language": "python",
   "name": "python3"
  },
  "language_info": {
   "codemirror_mode": {
    "name": "ipython",
    "version": 3
   },
   "file_extension": ".py",
   "mimetype": "text/x-python",
   "name": "python",
   "nbconvert_exporter": "python",
   "pygments_lexer": "ipython3",
   "version": "3.13.2"
  }
 },
 "nbformat": 4,
 "nbformat_minor": 5
}
